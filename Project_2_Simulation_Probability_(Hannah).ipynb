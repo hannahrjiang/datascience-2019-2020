{
  "nbformat": 4,
  "nbformat_minor": 0,
  "metadata": {
    "colab": {
      "name": "Project 2 Simulation Probability (Hannah)",
      "provenance": [],
      "collapsed_sections": []
    },
    "kernelspec": {
      "name": "python3",
      "display_name": "Python 3"
    }
  },
  "cells": [
    {
      "cell_type": "markdown",
      "metadata": {
        "id": "5NcEozP52Nln",
        "colab_type": "text"
      },
      "source": [
        "# Project 2 - Empirical and Theoretical Probability (Hannah)"
      ]
    },
    {
      "cell_type": "markdown",
      "metadata": {
        "id": "H2APz4ic2W2N",
        "colab_type": "text"
      },
      "source": [
        "Describe a scenario that you find surpising. There are a couple examples below.\n",
        "\n",
        "Is it actually surprising? Use empirical and theoretical probability.\n",
        "\n"
      ]
    },
    {
      "cell_type": "markdown",
      "metadata": {
        "id": "yKaegr8CwltT",
        "colab_type": "text"
      },
      "source": [
        "## Examples\n",
        "\n",
        "1. It's winter, and folks have the sniffles. Currently 100 out of the 283 students in the upper school have some sort of ailment. There are 15 students in your English class and every one of them is sick.\n",
        "\n",
        "2. The U.S. population is 50.8% female. There are 23 women in the 100 person U.S. Senate. "
      ]
    },
    {
      "cell_type": "markdown",
      "metadata": {
        "id": "Xn9QY5482rfS",
        "colab_type": "text"
      },
      "source": [
        "## Description\n",
        "\n",
        "Describe the scenario. What are the givens? Be sure to state all assumptions you've made."
      ]
    },
    {
      "cell_type": "markdown",
      "metadata": {
        "id": "CeHNacE22x0l",
        "colab_type": "text"
      },
      "source": [
        "In a random survey-based study of US adults, 72 out of 104 surveyed slept with their phones within arms reach. At Bush, 18 out of 20 upper school students also slept with their phones within arms reach. \n",
        "\n",
        "What's the probability that a random sample of US adults would mimic the survey conducted at Bush? In other words, is it unusual for 18 out of 20 US adults to sleep with their phones within arms reach?\n",
        "\n",
        "In this process, we are assuming that the random 20 students surveyed represent the entire Bush upper school population. It was also assumed that the data of US adults represented the entire US adult population, and that all answers in the survey were completely independent-- that is, one person's answer would not have affected anothers'."
      ]
    },
    {
      "cell_type": "markdown",
      "metadata": {
        "id": "mI9It6LQ2win",
        "colab_type": "text"
      },
      "source": [
        "## Simulation\n",
        "\n",
        "1) Create an empirical probability distribution of what you would observe under the null hypothesis.\n",
        "\n",
        "2) Calculate the empirical probability of the \"unusual\" event.\n",
        "\n",
        "3) Calculate the empirical expected value and standard deviation.\n"
      ]
    },
    {
      "cell_type": "code",
      "metadata": {
        "id": "8XS5S_BY2SqK",
        "colab_type": "code",
        "colab": {}
      },
      "source": [
        "#Importing all libraries\n",
        "from datascience import *\n",
        "import numpy as np"
      ],
      "execution_count": 0,
      "outputs": []
    },
    {
      "cell_type": "markdown",
      "metadata": {
        "id": "mlWG_PURCgt8",
        "colab_type": "text"
      },
      "source": [
        "Below, I'm importing the data I'm using from Kaggle and placing it in a table. It's a random sample of 104 United States adults, 72 of which sleep with their phones within arms reach."
      ]
    },
    {
      "cell_type": "code",
      "metadata": {
        "id": "Mia_E4JYyNmj",
        "colab_type": "code",
        "outputId": "6db4c2dc-420f-4e2c-877f-fb10601956fc",
        "colab": {
          "resources": {
            "http://localhost:8080/nbextensions/google.colab/files.js": {
              "data": "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",
              "ok": true,
              "headers": [
                [
                  "content-type",
                  "application/javascript"
                ]
              ],
              "status": 200,
              "status_text": ""
            }
          },
          "base_uri": "https://localhost:8080/",
          "height": 88
        }
      },
      "source": [
        "#Importing tables from kaggle\n",
        "from google.colab import files\n",
        "\n",
        "uploaded = files.upload()\n",
        "\n",
        "for fn in uploaded.keys():\n",
        "  print('User uploaded file \"{name}\" with length {length} bytes'.format(\n",
        "      name=fn, length=len(uploaded[fn])))"
      ],
      "execution_count": 0,
      "outputs": [
        {
          "output_type": "display_data",
          "data": {
            "text/html": [
              "\n",
              "     <input type=\"file\" id=\"files-ffa85e9e-324d-4158-8f78-303d54012707\" name=\"files[]\" multiple disabled />\n",
              "     <output id=\"result-ffa85e9e-324d-4158-8f78-303d54012707\">\n",
              "      Upload widget is only available when the cell has been executed in the\n",
              "      current browser session. Please rerun this cell to enable.\n",
              "      </output>\n",
              "      <script src=\"/nbextensions/google.colab/files.js\"></script> "
            ],
            "text/plain": [
              "<IPython.core.display.HTML object>"
            ]
          },
          "metadata": {
            "tags": []
          }
        },
        {
          "output_type": "stream",
          "text": [
            "Saving SleepStudyData.csv to SleepStudyData.csv\n",
            "User uploaded file \"SleepStudyData.csv\" with length 2071 bytes\n"
          ],
          "name": "stdout"
        }
      ]
    },
    {
      "cell_type": "code",
      "metadata": {
        "id": "7rxmjE3YyPY5",
        "colab_type": "code",
        "outputId": "aa562819-d303-4f26-c8ba-3c81779c2922",
        "colab": {
          "base_uri": "https://localhost:8080/",
          "height": 388
        }
      },
      "source": [
        "#imports table of US adult data\n",
        "sleep_data = Table().read_table(\"SleepStudyData.csv\")\n",
        "sleep_data_phone = sleep_data.select(\"PhoneReach\")\n",
        "sleep_data_phone"
      ],
      "execution_count": 0,
      "outputs": [
        {
          "output_type": "execute_result",
          "data": {
            "text/html": [
              "<table border=\"1\" class=\"dataframe\">\n",
              "    <thead>\n",
              "        <tr>\n",
              "            <th>PhoneReach</th>\n",
              "        </tr>\n",
              "    </thead>\n",
              "    <tbody>\n",
              "        <tr>\n",
              "            <td>Yes       </td>\n",
              "        </tr>\n",
              "        <tr>\n",
              "            <td>Yes       </td>\n",
              "        </tr>\n",
              "        <tr>\n",
              "            <td>Yes       </td>\n",
              "        </tr>\n",
              "        <tr>\n",
              "            <td>Yes       </td>\n",
              "        </tr>\n",
              "        <tr>\n",
              "            <td>Yes       </td>\n",
              "        </tr>\n",
              "        <tr>\n",
              "            <td>Yes       </td>\n",
              "        </tr>\n",
              "        <tr>\n",
              "            <td>Yes       </td>\n",
              "        </tr>\n",
              "        <tr>\n",
              "            <td>Yes       </td>\n",
              "        </tr>\n",
              "        <tr>\n",
              "            <td>No        </td>\n",
              "        </tr>\n",
              "        <tr>\n",
              "            <td>Yes       </td>\n",
              "        </tr>\n",
              "    </tbody>\n",
              "</table>\n",
              "<p>... (94 rows omitted)</p>"
            ],
            "text/plain": [
              "PhoneReach\n",
              "Yes\n",
              "Yes\n",
              "Yes\n",
              "Yes\n",
              "Yes\n",
              "Yes\n",
              "Yes\n",
              "Yes\n",
              "No\n",
              "Yes\n",
              "... (94 rows omitted)"
            ]
          },
          "metadata": {
            "tags": []
          },
          "execution_count": 3
        }
      ]
    },
    {
      "cell_type": "markdown",
      "metadata": {
        "id": "9Hd67o-5BZ74",
        "colab_type": "text"
      },
      "source": [
        "I gathered a random sample of 20 people from the entire 286 Upper School students at Bush by assigning each students a number between 1 and 286.\n",
        "20 random numbers were drawn below, and students whose numbers were drawn they were surveyed. This data was placed in the table below."
      ]
    },
    {
      "cell_type": "code",
      "metadata": {
        "id": "IB8rko08hWZs",
        "colab_type": "code",
        "colab": {}
      },
      "source": [
        "#Generating 20 random numbers\n",
        "numbers = np.arange(0,286)\n",
        "ran_numbers = np.random.choice(numbers, 20)\n",
        "#when I ran it, the array produced [12, 37, 46, 52, 89, 114, 119, 150, 151, 156, 201, 215, 225, 231, 234, 256, 263, 269, 275, 284]"
      ],
      "execution_count": 0,
      "outputs": []
    },
    {
      "cell_type": "code",
      "metadata": {
        "id": "2_jZRrOnwmHl",
        "colab_type": "code",
        "outputId": "09e97529-2afc-4481-8be7-15d4b2da3f75",
        "colab": {
          "base_uri": "https://localhost:8080/",
          "height": 215
        }
      },
      "source": [
        "! pip install --upgrade --quiet gspread\n",
        "from google.colab import auth\n",
        "import pandas as pd\n",
        "auth.authenticate_user()\n",
        "\n",
        "import gspread\n",
        "from oauth2client.client import GoogleCredentials\n",
        "\n",
        "gc = gspread.authorize(GoogleCredentials.get_application_default())\n",
        "worksheet = gc.open('Traffic Dataset').sheet1\n",
        "\n",
        "# get_all_values gives a list of rows.\n",
        "sheet_rows = worksheet.get_all_values()\n",
        "pd_df = pd.DataFrame.from_records(sheet_rows)\n",
        "pd_df.columns = pd_df.iloc[0]\n",
        "pd_df = pd_df.drop(pd_df.index[0])\n",
        "happy = Table.from_df(pd_df)\n",
        "happy"
      ],
      "execution_count": 0,
      "outputs": [
        {
          "output_type": "error",
          "ename": "NameError",
          "evalue": "ignored",
          "traceback": [
            "\u001b[0;31m---------------------------------------------------------------------------\u001b[0m",
            "\u001b[0;31mNameError\u001b[0m                                 Traceback (most recent call last)",
            "\u001b[0;32m<ipython-input-3-b5c8341e04da>\u001b[0m in \u001b[0;36m<module>\u001b[0;34m()\u001b[0m\n\u001b[1;32m     15\u001b[0m \u001b[0mpd_df\u001b[0m\u001b[0;34m.\u001b[0m\u001b[0mcolumns\u001b[0m \u001b[0;34m=\u001b[0m \u001b[0mpd_df\u001b[0m\u001b[0;34m.\u001b[0m\u001b[0miloc\u001b[0m\u001b[0;34m[\u001b[0m\u001b[0;36m0\u001b[0m\u001b[0;34m]\u001b[0m\u001b[0;34m\u001b[0m\u001b[0;34m\u001b[0m\u001b[0m\n\u001b[1;32m     16\u001b[0m \u001b[0mpd_df\u001b[0m \u001b[0;34m=\u001b[0m \u001b[0mpd_df\u001b[0m\u001b[0;34m.\u001b[0m\u001b[0mdrop\u001b[0m\u001b[0;34m(\u001b[0m\u001b[0mpd_df\u001b[0m\u001b[0;34m.\u001b[0m\u001b[0mindex\u001b[0m\u001b[0;34m[\u001b[0m\u001b[0;36m0\u001b[0m\u001b[0;34m]\u001b[0m\u001b[0;34m)\u001b[0m\u001b[0;34m\u001b[0m\u001b[0;34m\u001b[0m\u001b[0m\n\u001b[0;32m---> 17\u001b[0;31m \u001b[0mhappy\u001b[0m \u001b[0;34m=\u001b[0m \u001b[0mTable\u001b[0m\u001b[0;34m.\u001b[0m\u001b[0mfrom_df\u001b[0m\u001b[0;34m(\u001b[0m\u001b[0mpd_df\u001b[0m\u001b[0;34m)\u001b[0m\u001b[0;34m\u001b[0m\u001b[0;34m\u001b[0m\u001b[0m\n\u001b[0m\u001b[1;32m     18\u001b[0m \u001b[0mhappy\u001b[0m\u001b[0;34m\u001b[0m\u001b[0;34m\u001b[0m\u001b[0m\n",
            "\u001b[0;31mNameError\u001b[0m: name 'Table' is not defined"
          ]
        }
      ]
    },
    {
      "cell_type": "markdown",
      "metadata": {
        "id": "GXBXozC3jyoQ",
        "colab_type": "text"
      },
      "source": [
        "The following code runs a simulation of US adults. Using the probability that an adult slept with their phone within arms reach (69.2%), it calculated how many adults out of 20 exhibited this trait , then ran this 10,000 times, placing the results in a histogram."
      ]
    },
    {
      "cell_type": "code",
      "metadata": {
        "id": "JN7tmgDajBrH",
        "colab_type": "code",
        "outputId": "6dd7fab3-ab6a-4272-f854-5b135614c19b",
        "colab": {
          "base_uri": "https://localhost:8080/",
          "height": 284
        }
      },
      "source": [
        "#Runs a simulation that counts the number of \"yes\" answers from adults\n",
        "%matplotlib inline\n",
        "def phone_near(asks):\n",
        "  us_yes = 0 \n",
        "  probabilities = make_array(0.692,0.308)\n",
        "  for i in np.arange (asks):\n",
        "    us_answer = np.random.choice(make_array(\"Yes\", \"No\"), p=probabilities)\n",
        "    if us_answer == \"Yes\":\n",
        "      us_yes += 1\n",
        "    elif us_answer == \"No\":\n",
        "      us_yes += 0\n",
        "  return us_yes\n",
        "\n",
        "#runs this 10,000 times and places results in a histogram\n",
        "all_us_ans = []\n",
        "for i in np.arange(0, 10000):\n",
        "  all_us_ans.append(phone_near(20))\n",
        "us_table = Table().with_columns(\"# of US adults\", all_us_ans)\n",
        "us_table.hist(\"# of US adults\", bins = np.arange(0,21))"
      ],
      "execution_count": 0,
      "outputs": [
        {
          "output_type": "display_data",
          "data": {
            "image/png": "[encoded data removed]",
            "text/plain": [
              "<Figure size 432x288 with 1 Axes>"
            ]
          },
          "metadata": {
            "tags": []
          }
        }
      ]
    },
    {
      "cell_type": "markdown",
      "metadata": {
        "id": "1JVD6vda5EpP",
        "colab_type": "text"
      },
      "source": [
        "\n",
        "Again, our question is:\n",
        "In a sample of 20 US adults, is it unusual for 18 to sleep with their phones within arms reach?\n",
        "\n",
        "Our null hypothesis is that if 69.2% (or 72 out of 104) adults in the United States sleep with their phones within arms reach, then Bush Upper School students should exhibit the same traits."
      ]
    },
    {
      "cell_type": "code",
      "metadata": {
        "id": "R3TSm54X5eBK",
        "colab_type": "code",
        "outputId": "f1b8a031-2fbf-4442-febb-1e1bf8e6d16c",
        "colab": {
          "base_uri": "https://localhost:8080/",
          "height": 34
        }
      },
      "source": [
        "len(us_table.where(\"# of US adults\", are.above_or_equal_to(18)).column(\"# of US adults\")) / 10000"
      ],
      "execution_count": 0,
      "outputs": [
        {
          "output_type": "execute_result",
          "data": {
            "text/plain": [
              "0.0327"
            ]
          },
          "metadata": {
            "tags": []
          },
          "execution_count": 8
        }
      ]
    },
    {
      "cell_type": "markdown",
      "metadata": {
        "id": "W5yT3EoQ-8Ge",
        "colab_type": "text"
      },
      "source": [
        "When I ran the simulation, it calculated that there was a 3.15% chance that US adults would exhibit the same traits as students in the Bush survey. This value was our empirical probability (Note that this value changes every time the simulation is run). To calculate the empirical standard deviation, I just applied a function to the US data."
      ]
    },
    {
      "cell_type": "code",
      "metadata": {
        "id": "6fnFcoDQGe7n",
        "colab_type": "code",
        "outputId": "35286f4e-fad6-4bf8-d502-a9314b31a1a4",
        "colab": {
          "base_uri": "https://localhost:8080/",
          "height": 34
        }
      },
      "source": [
        "np.std(all_us_ans)"
      ],
      "execution_count": 0,
      "outputs": [
        {
          "output_type": "execute_result",
          "data": {
            "text/plain": [
              "2.0539749535960756"
            ]
          },
          "metadata": {
            "tags": []
          },
          "execution_count": 9
        }
      ]
    },
    {
      "cell_type": "markdown",
      "metadata": {
        "id": "9xwi9a6j3ffF",
        "colab_type": "text"
      },
      "source": [
        "To calculate empirical expected value, we can just find the average number of US adults who replied \"yes\":"
      ]
    },
    {
      "cell_type": "code",
      "metadata": {
        "id": "1MVI8ecr6j21",
        "colab_type": "code",
        "outputId": "36e6a85a-19d6-49c7-f592-a8c0a75ad6e9",
        "colab": {
          "base_uri": "https://localhost:8080/",
          "height": 34
        }
      },
      "source": [
        "np.average(all_us_ans)"
      ],
      "execution_count": 0,
      "outputs": [
        {
          "output_type": "execute_result",
          "data": {
            "text/plain": [
              "13.8633"
            ]
          },
          "metadata": {
            "tags": []
          },
          "execution_count": 10
        }
      ]
    },
    {
      "cell_type": "markdown",
      "metadata": {
        "id": "6ZaUjH7j6szf",
        "colab_type": "text"
      },
      "source": [
        "So in my simluation, the expected value would be that 14 out of 20 US adults sleep near their phones."
      ]
    },
    {
      "cell_type": "markdown",
      "metadata": {
        "id": "dQ9In_YG2_OT",
        "colab_type": "text"
      },
      "source": [
        "## Theoretical Probability\n",
        "\n",
        "1) Create a theoretical probability distribution of what you would observe under the null hypothesis.\n",
        "\n",
        "2) Calculate the theoretical probability of the \"unusual\" event.\n",
        "\n",
        "3) Calculate the theoretical expected value and standard deviation."
      ]
    },
    {
      "cell_type": "markdown",
      "metadata": {
        "id": "YIFf6fib3CJ2",
        "colab_type": "text"
      },
      "source": [
        "Null hypothesis: if 69.2% of adults in the United States sleep with their phones within arms reach, then an equal percentage of Bush upper school students should too.\n",
        "\n",
        "\"Unusual\" event: 90% of Bush School Students sleep with their phones within arms reach."
      ]
    },
    {
      "cell_type": "markdown",
      "metadata": {
        "id": "esgN8cGmvXic",
        "colab_type": "text"
      },
      "source": [
        "The distribution of US adults is binomial:\n",
        "*   There is a set number of 20 people surveyed (n = 20 trials)\n",
        "*   There is a success/fail (\"Yes\" and \"No\")\n",
        "*   We are assuming independece\n",
        "\n",
        "Therefore, we can calculate the theoretical probability of getting 18 or more \"Yes\" answers from US adults. \n",
        "\n",
        "The US data states that\n",
        "Pr(Yes) = 0.692\n",
        "\n",
        "To find this, we should add the probability of 18,19, and 20 \"yes\" answers (we can do this because the three values are mutually exclusive, meaning a survey can't have 18 and 19 yeses at the same time).\n",
        "\n",
        "To find Pr(Yes >= 18):\n",
        "\n",
        "Pr(Yes=18) = (20C18)(0.692^18)(0.308^2) = 0.0238\n",
        "\n",
        "Pr(Yes=19) = (20C19)(0.692^19)(0.308) = 0.0056\n",
        "\n",
        "Pr(Yes=20) = (20C20)(0.692^20) = 0.000634\n",
        "\n",
        "Pr(Yes >= 18) = 0.0238 + 0.0056 + 0.000634 = 0.30034 %\n",
        "\n",
        "Out of an infinite number of trials, 3.0% have 18 or more adults sleeping with their phones within arms reach.\n",
        "\n",
        "\n"
      ]
    },
    {
      "cell_type": "markdown",
      "metadata": {
        "id": "nKRHMc7p4z5T",
        "colab_type": "text"
      },
      "source": [
        "The probability of a US adult sleeping with their phone within arms reach is 69.2%. \n",
        "\n",
        "The expected value in this experiment would be that, in a group of 20 US adults, 69.2% of those 20 would exhibit this trait. Therefore, the theoretical expected value would be 0.692*20 = 13.84 (rounded up to 14) US adults sleeping with their phone within arms reach in each sample of 20.\n",
        "\n",
        "\n",
        "theoretical standard deviation =  square root of (number of trials * probability of success)(1 - probability of success)\n",
        "\n",
        "standard deviation = square root of (20*0.692)(1-0.692)\n",
        "\n",
        "standard deviation = 2.064"
      ]
    },
    {
      "cell_type": "markdown",
      "metadata": {
        "id": "wjqUpDNe3Cnz",
        "colab_type": "text"
      },
      "source": [
        "## Conclusions\n",
        "\n",
        "What did we learn?\n",
        "Write paragraph that describes your observation and what interested you about that occurence. State the assumptions you made in designing your simulation and calculating probabilities. State the probability of your observation with the assumptions you made and whether you think it is unusual. If your observation was unusual, can you generalize that to make a conclusion about a population or system?\n",
        "\n"
      ]
    },
    {
      "cell_type": "markdown",
      "metadata": {
        "id": "RNdAe-0o3ELq",
        "colab_type": "text"
      },
      "source": [
        "I chose this topic because of the survey I saw on Kaggle. It stated that 72 out of 104, or 69.2%, of US adults slept with their phone within arms reach. I began asking students around me whether they did the same, and most of them did. I was interested to see whether Bush exhibited different or unusual results compared to US adults. I decided to conduct a survey of 20 random students form the Upper School. To ensure that this sample was random, I assigned the 286 students in the upper school an integer from 1 to 286, then used a random choice function to draw 20 random numbers from this pile. These 20 numbers correlated to 20 students, who I surveyed to collect my data. 18 out of the 20 students replied \"Yes\" when asked whether they slept with their phones within arms reach. I wanted to find out the probability of 18 or more US adults also doing this, and whether that occurence was unusual.\n",
        "\n",
        "I ran a simulation that determined the number of \"Yes\" answers among 20 US adults, repeating this 10,000 times and putting the results in a histogram. To do so, I assumed that the 104 US adults in the Sleep Study survey represented a random sample of the United States, and that their answers were completely independent from each other. \n",
        "\n",
        "It was determined that the probability of 18 or more US adults replying \"Yes\" was 3.15% (this number varied each time I ran the simultion), which was similar to my expected theoretical probability. Because this number was so small, and vaired signifigantly from the null hypothesis, it was clear that my survey's occurence was unusual. "
      ]
    },
    {
      "cell_type": "markdown",
      "metadata": {
        "id": "Wq6ueeIDBe1S",
        "colab_type": "text"
      },
      "source": [
        "However, this resolution cannot be applied to the general populations of Bush Upper School students and US adults. We can't nessesarily say that more Bush Upper School students exhibit this trait than US adults because we only had a small portion of the Bush School data avaliable to us. One of my assumptions, as stated above, was that the 20 students surveyed represented the entire Bush upper school population. However, I decided that the Bush survey, because it only represented a small fraction of the upper school(20 out of 286 people), couldn't be generalized to the entire population. Though my survey determined that 18 out of 20 students at Bush Upper school slept with their phones within arms reach, there was most likely variability in this assumption (18 out of 20 students could have been an unusual occurence). To account for this, I ran another simulation to determine how different the generalized Bush upper school data was from the US adults data, while accounting for proposed variation in the Bush data.\n",
        "\n",
        "This simulation determined the number of \"Yes\" answers in 20 students at Bush, ran this 10,000 times, and placed the values in a histogram. I overlaid this histogram with that of the US adults because I wanted to see whether there was a signifigant overlap between the two. "
      ]
    },
    {
      "cell_type": "code",
      "metadata": {
        "id": "I9ENmxbskjDP",
        "colab_type": "code",
        "outputId": "d79c0e94-b18c-442a-9c63-f2eda2cb32b3",
        "colab": {
          "base_uri": "https://localhost:8080/",
          "height": 265
        }
      },
      "source": [
        "#Runs a simulation that counts the number of \"yes\" answers from Bush school students\n",
        "%matplotlib inline\n",
        "def phone_near(asks):\n",
        "  b_yes = 0 \n",
        "  probabilities = make_array(0.90,0.1)\n",
        "  for i in np.arange (asks):\n",
        "    b_answer = np.random.choice(make_array(\"Yes\", \"No\"), p=probabilities)\n",
        "    if b_answer == \"Yes\":\n",
        "      b_yes += 1\n",
        "    elif b_answer == \"No\":\n",
        "      b_yes += 0\n",
        "  return b_yes\n",
        "\n",
        "#runs this 10,000 times and places results in an array\n",
        "all_bush_ans = []\n",
        "for i in np.arange(0, 10000):\n",
        "  all_bush_ans.append(phone_near(20))\n",
        "\n",
        "#Overlaying Graphs\n",
        "both_data_table = Table().with_columns(\"# of Bush students\", all_bush_ans, \"# of US adults\", all_us_ans )\n",
        "both_data_table.hist([\"# of Bush students\", \"# of US adults\"], bins = np.arange(0,21))"
      ],
      "execution_count": 0,
      "outputs": [
        {
          "output_type": "display_data",
          "data": {
            "image/png": "[encoded data removed]",
            "text/plain": [
              "<Figure size 432x288 with 1 Axes>"
            ]
          },
          "metadata": {
            "tags": []
          }
        }
      ]
    },
    {
      "cell_type": "markdown",
      "metadata": {
        "id": "PFKuOZ9OA85z",
        "colab_type": "text"
      },
      "source": [
        "The graph above depicts the overlap between the Sleep Study data and the simulated Bush data. I assumed just by looking at the graph that, because of the small overlap between the two histograms, the number of Bush students sleeping near their phones was generally higher than US adults. \n",
        "\n",
        "However, it would be even easier to come to this conclusion if I calculated the differences between the two simulations. If the resulting US adults data was subtracted from the Bush data, my assumption states that the difference would normally be positive, because the Bush data was usually higher than the US data. This was done below and placed into a histogram."
      ]
    },
    {
      "cell_type": "code",
      "metadata": {
        "colab_type": "code",
        "outputId": "8b7cdb5b-f4e7-4cc7-b25b-bbe9728bb69c",
        "id": "-97RvPyb1RYQ",
        "colab": {
          "base_uri": "https://localhost:8080/",
          "height": 284
        }
      },
      "source": [
        "differences = np.asarray(all_bush_ans) - np.asarray(all_us_ans)\n",
        "difference_table = Table().with_column(\"Difference\", differences)\n",
        "difference_table.hist(\"Difference\")"
      ],
      "execution_count": 0,
      "outputs": [
        {
          "output_type": "display_data",
          "data": {
            "image/png": "[encoded data removed]",
            "text/plain": [
              "<Figure size 432x288 with 1 Axes>"
            ]
          },
          "metadata": {
            "tags": []
          }
        }
      ]
    },
    {
      "cell_type": "markdown",
      "metadata": {
        "colab_type": "text",
        "id": "Z9Cf2wON1Qt9"
      },
      "source": [
        "As can be seen by the graph, the Bush school data was generally higher than the US adults data. However, there were slight exceptions to my hypothesis: negative differences, or differences less than or equal to zero, meant there were occurences where the Bush data was lower than the adult data. I wanted to know how common these exceptions were, or the percentage of all the data that they made up. To do so, I determined the number of \"exceptions\" (negative differences) and divided them by the number of trials, or 10,000.\n"
      ]
    },
    {
      "cell_type": "code",
      "metadata": {
        "id": "lprfF1VO6tgW",
        "colab_type": "code",
        "outputId": "bc3d83df-4c6e-42dc-c1db-0dbf778f70c1",
        "colab": {
          "base_uri": "https://localhost:8080/",
          "height": 34
        }
      },
      "source": [
        "exceptions_percentage = len(difference_table.where(\"Difference\", are.below_or_equal_to(0)).column(\"Difference\"))/10000\n",
        "exceptions_percentage"
      ],
      "execution_count": 0,
      "outputs": [
        {
          "output_type": "execute_result",
          "data": {
            "text/plain": [
              "0.0685"
            ]
          },
          "metadata": {
            "tags": []
          },
          "execution_count": 13
        }
      ]
    },
    {
      "cell_type": "markdown",
      "metadata": {
        "id": "gHEpwcWc7G27",
        "colab_type": "text"
      },
      "source": [
        "In my simluation, exceptions made up about 6.99% of all the data; which is a pretty small amount. \n",
        "\n",
        "\n",
        "Because exceptions made up a small amount of all the data, I could determine that, generally, more Bush students slept near their phones than US adults.\n",
        "\n"
      ]
    },
    {
      "cell_type": "markdown",
      "metadata": {
        "id": "FKbalUPbyPqO",
        "colab_type": "text"
      },
      "source": [
        "Feedback: 24/25\n",
        "Your problem statement was clear and easy to follow. You chose an engaging and reasonable question. Your codefor the sampling distribution was neat and succinct. While the theoretical probability was correct, you lost track of a few decimals in the probability caclulations (-1). Your conclusions provided an excellent extension for how one might see this problem differently. Very nice work. "
      ]
    }
  ]
}