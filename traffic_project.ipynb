{
  "nbformat": 4,
  "nbformat_minor": 0,
  "metadata": {
    "colab": {
      "name": "traffic_project.ipynb",
      "provenance": [],
      "collapsed_sections": [],
      "authorship_tag": "ABX9TyPxK1UGGSvIJy20D7YrWjom",
      "include_colab_link": true
    },
    "kernelspec": {
      "name": "python3",
      "display_name": "Python 3"
    }
  },
  "cells": [
    {
      "cell_type": "markdown",
      "metadata": {
        "id": "view-in-github",
        "colab_type": "text"
      },
      "source": [
        "<a href=\"https://colab.research.google.com/github/hannahrjiang/school-stuff/blob/master/traffic_project.ipynb\" target=\"_parent\"><img src=\"https://colab.research.google.com/assets/colab-badge.svg\" alt=\"Open In Colab\"/></a>"
      ]
    },
    {
      "cell_type": "markdown",
      "metadata": {
        "id": "8kYXQXAbXwIO",
        "colab_type": "text"
      },
      "source": [
        "# Traffic Visualization"
      ]
    },
    {
      "cell_type": "markdown",
      "metadata": {
        "id": "0sEHO5nFX4Hs",
        "colab_type": "text"
      },
      "source": [
        "**Central question:** Are different types of weather more/less dangerous to drive in?\n",
        "\n",
        "We're defining \"dangerous\" as being injured/killed in a car collision."
      ]
    },
    {
      "cell_type": "code",
      "metadata": {
        "id": "0jMdVsTPYLSW",
        "colab_type": "code",
        "colab": {}
      },
      "source": [
        "#importing libraries\n",
        "import numpy as np\n",
        "from datascience import *\n",
        "from matplotlib import pyplot as plt"
      ],
      "execution_count": 0,
      "outputs": []
    },
    {
      "cell_type": "markdown",
      "metadata": {
        "id": "8Xn9kXSA9eGN",
        "colab_type": "text"
      },
      "source": [
        "To answer this question, we found data on all Seattle collisions that occured in 2019. The table (imported below) told us the number of injuries, serious injuries, and fatalities sustained depending on different weather conditions.\n",
        "\n",
        "\n",
        "*   Injury - temporary injury, like a broken bone, headache, concussion, trauma, etc.\n",
        "*   Serious Injury - permanent affliction, like dismemberment, blinding, paralysis, etc.\n",
        "*   Fatality - Death\n",
        "\n",
        "\n",
        "\n"
      ]
    },
    {
      "cell_type": "code",
      "metadata": {
        "id": "7VCrDFqqYXRn",
        "colab_type": "code",
        "outputId": "41457c8e-bff4-49a5-e409-4aa3818d98bf",
        "colab": {
          "resources": {
            "http://localhost:8080/nbextensions/google.colab/files.js": {
              "data": "Ly8gQ29weXJpZ2h0IDIwMTcgR29vZ2xlIExMQwovLwovLyBMaWNlbnNlZCB1bmRlciB0aGUgQXBhY2hlIExpY2Vuc2UsIFZlcnNpb24gMi4wICh0aGUgIkxpY2Vuc2UiKTsKLy8geW91IG1heSBub3QgdXNlIHRoaXMgZmlsZSBleGNlcHQgaW4gY29tcGxpYW5jZSB3aXRoIHRoZSBMaWNlbnNlLgovLyBZb3UgbWF5IG9idGFpbiBhIGNvcHkgb2YgdGhlIExpY2Vuc2UgYXQKLy8KLy8gICAgICBodHRwOi8vd3d3LmFwYWNoZS5vcmcvbGljZW5zZXMvTElDRU5TRS0yLjAKLy8KLy8gVW5sZXNzIHJlcXVpcmVkIGJ5IGFwcGxpY2FibGUgbGF3IG9yIGFncmVlZCB0byBpbiB3cml0aW5nLCBzb2Z0d2FyZQovLyBkaXN0cmlidXRlZCB1bmRlciB0aGUgTGljZW5zZSBpcyBkaXN0cmlidXRlZCBvbiBhbiAiQVMgSVMiIEJBU0lTLAovLyBXSVRIT1VUIFdBUlJBTlRJRVMgT1IgQ09ORElUSU9OUyBPRiBBTlkgS0lORCwgZWl0aGVyIGV4cHJlc3Mgb3IgaW1wbGllZC4KLy8gU2VlIHRoZSBMaWNlbnNlIGZvciB0aGUgc3BlY2lmaWMgbGFuZ3VhZ2UgZ292ZXJuaW5nIHBlcm1pc3Npb25zIGFuZAovLyBsaW1pdGF0aW9ucyB1bmRlciB0aGUgTGljZW5zZS4KCi8qKgogKiBAZmlsZW92ZXJ2aWV3IEhlbHBlcnMgZm9yIGdvb2dsZS5jb2xhYiBQeXRob24gbW9kdWxlLgogKi8KKGZ1bmN0aW9uKHNjb3BlKSB7CmZ1bmN0aW9uIHNwYW4odGV4dCwgc3R5bGVBdHRyaWJ1dGVzID0ge30pIHsKICBjb25zdCBlbGVtZW50ID0gZG9jdW1lbnQuY3JlYXRlRWxlbWVudCgnc3BhbicpOwogIGVsZW1lbnQudGV4dENvbnRlbnQgPSB0ZXh0OwogIGZvciAoY29uc3Qga2V5IG9mIE9iamVjdC5rZXlzKHN0eWxlQXR0cmlidXRlcykpIHsKICAgIGVsZW1lbnQuc3R5bGVba2V5XSA9IHN0eWxlQXR0cmlidXRlc1trZXldOwogIH0KICByZXR1cm4gZWxlbWVudDsKfQoKLy8gTWF4IG51bWJlciBvZiBieXRlcyB3aGljaCB3aWxsIGJlIHVwbG9hZGVkIGF0IGEgdGltZS4KY29uc3QgTUFYX1BBWUxPQURfU0laRSA9IDEwMCAqIDEwMjQ7Ci8vIE1heCBhbW91bnQgb2YgdGltZSB0byBibG9jayB3YWl0aW5nIGZvciB0aGUgdXNlci4KY29uc3QgRklMRV9DSEFOR0VfVElNRU9VVF9NUyA9IDMwICogMTAwMDsKCmZ1bmN0aW9uIF91cGxvYWRGaWxlcyhpbnB1dElkLCBvdXRwdXRJZCkgewogIGNvbnN0IHN0ZXBzID0gdXBsb2FkRmlsZXNTdGVwKGlucHV0SWQsIG91dHB1dElkKTsKICBjb25zdCBvdXRwdXRFbGVtZW50ID0gZG9jdW1lbnQuZ2V0RWxlbWVudEJ5SWQob3V0cHV0SWQpOwogIC8vIENhY2hlIHN0ZXBzIG9uIHRoZSBvdXRwdXRFbGVtZW50IHRvIG1ha2UgaXQgYXZhaWxhYmxlIGZvciB0aGUgbmV4dCBjYWxsCiAgLy8gdG8gdXBsb2FkRmlsZXNDb250aW51ZSBmcm9tIFB5dGhvbi4KICBvdXRwdXRFbGVtZW50LnN0ZXBzID0gc3RlcHM7CgogIHJldHVybiBfdXBsb2FkRmlsZXNDb250aW51ZShvdXRwdXRJZCk7Cn0KCi8vIFRoaXMgaXMgcm91Z2hseSBhbiBhc3luYyBnZW5lcmF0b3IgKG5vdCBzdXBwb3J0ZWQgaW4gdGhlIGJyb3dzZXIgeWV0KSwKLy8gd2hlcmUgdGhlcmUgYXJlIG11bHRpcGxlIGFzeW5jaHJvbm91cyBzdGVwcyBhbmQgdGhlIFB5dGhvbiBzaWRlIGlzIGdvaW5nCi8vIHRvIHBvbGwgZm9yIGNvbXBsZXRpb24gb2YgZWFjaCBzdGVwLgovLyBUaGlzIHVzZXMgYSBQcm9taXNlIHRvIGJsb2NrIHRoZSBweXRob24gc2lkZSBvbiBjb21wbGV0aW9uIG9mIGVhY2ggc3RlcCwKLy8gdGhlbiBwYXNzZXMgdGhlIHJlc3VsdCBvZiB0aGUgcHJldmlvdXMgc3RlcCBhcyB0aGUgaW5wdXQgdG8gdGhlIG5leHQgc3RlcC4KZnVuY3Rpb24gX3VwbG9hZEZpbGVzQ29udGludWUob3V0cHV0SWQpIHsKICBjb25zdCBvdXRwdXRFbGVtZW50ID0gZG9jdW1lbnQuZ2V0RWxlbWVudEJ5SWQob3V0cHV0SWQpOwogIGNvbnN0IHN0ZXBzID0gb3V0cHV0RWxlbWVudC5zdGVwczsKCiAgY29uc3QgbmV4dCA9IHN0ZXBzLm5leHQob3V0cHV0RWxlbWVudC5sYXN0UHJvbWlzZVZhbHVlKTsKICByZXR1cm4gUHJvbWlzZS5yZXNvbHZlKG5leHQudmFsdWUucHJvbWlzZSkudGhlbigodmFsdWUpID0+IHsKICAgIC8vIENhY2hlIHRoZSBsYXN0IHByb21pc2UgdmFsdWUgdG8gbWFrZSBpdCBhdmFpbGFibGUgdG8gdGhlIG5leHQKICAgIC8vIHN0ZXAgb2YgdGhlIGdlbmVyYXRvci4KICAgIG91dHB1dEVsZW1lbnQubGFzdFByb21pc2VWYWx1ZSA9IHZhbHVlOwogICAgcmV0dXJuIG5leHQudmFsdWUucmVzcG9uc2U7CiAgfSk7Cn0KCi8qKgogKiBHZW5lcmF0b3IgZnVuY3Rpb24gd2hpY2ggaXMgY2FsbGVkIGJldHdlZW4gZWFjaCBhc3luYyBzdGVwIG9mIHRoZSB1cGxvYWQKICogcHJvY2Vzcy4KICogQHBhcmFtIHtzdHJpbmd9IGlucHV0SWQgRWxlbWVudCBJRCBvZiB0aGUgaW5wdXQgZmlsZSBwaWNrZXIgZWxlbWVudC4KICogQHBhcmFtIHtzdHJpbmd9IG91dHB1dElkIEVsZW1lbnQgSUQgb2YgdGhlIG91dHB1dCBkaXNwbGF5LgogKiBAcmV0dXJuIHshSXRlcmFibGU8IU9iamVjdD59IEl0ZXJhYmxlIG9mIG5leHQgc3RlcHMuCiAqLwpmdW5jdGlvbiogdXBsb2FkRmlsZXNTdGVwKGlucHV0SWQsIG91dHB1dElkKSB7CiAgY29uc3QgaW5wdXRFbGVtZW50ID0gZG9jdW1lbnQuZ2V0RWxlbWVudEJ5SWQoaW5wdXRJZCk7CiAgaW5wdXRFbGVtZW50LmRpc2FibGVkID0gZmFsc2U7CgogIGNvbnN0IG91dHB1dEVsZW1lbnQgPSBkb2N1bWVudC5nZXRFbGVtZW50QnlJZChvdXRwdXRJZCk7CiAgb3V0cHV0RWxlbWVudC5pbm5lckhUTUwgPSAnJzsKCiAgY29uc3QgcGlja2VkUHJvbWlzZSA9IG5ldyBQcm9taXNlKChyZXNvbHZlKSA9PiB7CiAgICBpbnB1dEVsZW1lbnQuYWRkRXZlbnRMaXN0ZW5lcignY2hhbmdlJywgKGUpID0+IHsKICAgICAgcmVzb2x2ZShlLnRhcmdldC5maWxlcyk7CiAgICB9KTsKICB9KTsKCiAgY29uc3QgY2FuY2VsID0gZG9jdW1lbnQuY3JlYXRlRWxlbWVudCgnYnV0dG9uJyk7CiAgaW5wdXRFbGVtZW50LnBhcmVudEVsZW1lbnQuYXBwZW5kQ2hpbGQoY2FuY2VsKTsKICBjYW5jZWwudGV4dENvbnRlbnQgPSAnQ2FuY2VsIHVwbG9hZCc7CiAgY29uc3QgY2FuY2VsUHJvbWlzZSA9IG5ldyBQcm9taXNlKChyZXNvbHZlKSA9PiB7CiAgICBjYW5jZWwub25jbGljayA9ICgpID0+IHsKICAgICAgcmVzb2x2ZShudWxsKTsKICAgIH07CiAgfSk7CgogIC8vIENhbmNlbCB1cGxvYWQgaWYgdXNlciBoYXNuJ3QgcGlja2VkIGFueXRoaW5nIGluIHRpbWVvdXQuCiAgY29uc3QgdGltZW91dFByb21pc2UgPSBuZXcgUHJvbWlzZSgocmVzb2x2ZSkgPT4gewogICAgc2V0VGltZW91dCgoKSA9PiB7CiAgICAgIHJlc29sdmUobnVsbCk7CiAgICB9LCBGSUxFX0NIQU5HRV9USU1FT1VUX01TKTsKICB9KTsKCiAgLy8gV2FpdCBmb3IgdGhlIHVzZXIgdG8gcGljayB0aGUgZmlsZXMuCiAgY29uc3QgZmlsZXMgPSB5aWVsZCB7CiAgICBwcm9taXNlOiBQcm9taXNlLnJhY2UoW3BpY2tlZFByb21pc2UsIHRpbWVvdXRQcm9taXNlLCBjYW5jZWxQcm9taXNlXSksCiAgICByZXNwb25zZTogewogICAgICBhY3Rpb246ICdzdGFydGluZycsCiAgICB9CiAgfTsKCiAgaWYgKCFmaWxlcykgewogICAgcmV0dXJuIHsKICAgICAgcmVzcG9uc2U6IHsKICAgICAgICBhY3Rpb246ICdjb21wbGV0ZScsCiAgICAgIH0KICAgIH07CiAgfQoKICBjYW5jZWwucmVtb3ZlKCk7CgogIC8vIERpc2FibGUgdGhlIGlucHV0IGVsZW1lbnQgc2luY2UgZnVydGhlciBwaWNrcyBhcmUgbm90IGFsbG93ZWQuCiAgaW5wdXRFbGVtZW50LmRpc2FibGVkID0gdHJ1ZTsKCiAgZm9yIChjb25zdCBmaWxlIG9mIGZpbGVzKSB7CiAgICBjb25zdCBsaSA9IGRvY3VtZW50LmNyZWF0ZUVsZW1lbnQoJ2xpJyk7CiAgICBsaS5hcHBlbmQoc3BhbihmaWxlLm5hbWUsIHtmb250V2VpZ2h0OiAnYm9sZCd9KSk7CiAgICBsaS5hcHBlbmQoc3BhbigKICAgICAgICBgKCR7ZmlsZS50eXBlIHx8ICduL2EnfSkgLSAke2ZpbGUuc2l6ZX0gYnl0ZXMsIGAgKwogICAgICAgIGBsYXN0IG1vZGlmaWVkOiAkewogICAgICAgICAgICBmaWxlLmxhc3RNb2RpZmllZERhdGUgPyBmaWxlLmxhc3RNb2RpZmllZERhdGUudG9Mb2NhbGVEYXRlU3RyaW5nKCkgOgogICAgICAgICAgICAgICAgICAgICAgICAgICAgICAgICAgICAnbi9hJ30gLSBgKSk7CiAgICBjb25zdCBwZXJjZW50ID0gc3BhbignMCUgZG9uZScpOwogICAgbGkuYXBwZW5kQ2hpbGQocGVyY2VudCk7CgogICAgb3V0cHV0RWxlbWVudC5hcHBlbmRDaGlsZChsaSk7CgogICAgY29uc3QgZmlsZURhdGFQcm9taXNlID0gbmV3IFByb21pc2UoKHJlc29sdmUpID0+IHsKICAgICAgY29uc3QgcmVhZGVyID0gbmV3IEZpbGVSZWFkZXIoKTsKICAgICAgcmVhZGVyLm9ubG9hZCA9IChlKSA9PiB7CiAgICAgICAgcmVzb2x2ZShlLnRhcmdldC5yZXN1bHQpOwogICAgICB9OwogICAgICByZWFkZXIucmVhZEFzQXJyYXlCdWZmZXIoZmlsZSk7CiAgICB9KTsKICAgIC8vIFdhaXQgZm9yIHRoZSBkYXRhIHRvIGJlIHJlYWR5LgogICAgbGV0IGZpbGVEYXRhID0geWllbGQgewogICAgICBwcm9taXNlOiBmaWxlRGF0YVByb21pc2UsCiAgICAgIHJlc3BvbnNlOiB7CiAgICAgICAgYWN0aW9uOiAnY29udGludWUnLAogICAgICB9CiAgICB9OwoKICAgIC8vIFVzZSBhIGNodW5rZWQgc2VuZGluZyB0byBhdm9pZCBtZXNzYWdlIHNpemUgbGltaXRzLiBTZWUgYi82MjExNTY2MC4KICAgIGxldCBwb3NpdGlvbiA9IDA7CiAgICB3aGlsZSAocG9zaXRpb24gPCBmaWxlRGF0YS5ieXRlTGVuZ3RoKSB7CiAgICAgIGNvbnN0IGxlbmd0aCA9IE1hdGgubWluKGZpbGVEYXRhLmJ5dGVMZW5ndGggLSBwb3NpdGlvbiwgTUFYX1BBWUxPQURfU0laRSk7CiAgICAgIGNvbnN0IGNodW5rID0gbmV3IFVpbnQ4QXJyYXkoZmlsZURhdGEsIHBvc2l0aW9uLCBsZW5ndGgpOwogICAgICBwb3NpdGlvbiArPSBsZW5ndGg7CgogICAgICBjb25zdCBiYXNlNjQgPSBidG9hKFN0cmluZy5mcm9tQ2hhckNvZGUuYXBwbHkobnVsbCwgY2h1bmspKTsKICAgICAgeWllbGQgewogICAgICAgIHJlc3BvbnNlOiB7CiAgICAgICAgICBhY3Rpb246ICdhcHBlbmQnLAogICAgICAgICAgZmlsZTogZmlsZS5uYW1lLAogICAgICAgICAgZGF0YTogYmFzZTY0LAogICAgICAgIH0sCiAgICAgIH07CiAgICAgIHBlcmNlbnQudGV4dENvbnRlbnQgPQogICAgICAgICAgYCR7TWF0aC5yb3VuZCgocG9zaXRpb24gLyBmaWxlRGF0YS5ieXRlTGVuZ3RoKSAqIDEwMCl9JSBkb25lYDsKICAgIH0KICB9CgogIC8vIEFsbCBkb25lLgogIHlpZWxkIHsKICAgIHJlc3BvbnNlOiB7CiAgICAgIGFjdGlvbjogJ2NvbXBsZXRlJywKICAgIH0KICB9Owp9CgpzY29wZS5nb29nbGUgPSBzY29wZS5nb29nbGUgfHwge307CnNjb3BlLmdvb2dsZS5jb2xhYiA9IHNjb3BlLmdvb2dsZS5jb2xhYiB8fCB7fTsKc2NvcGUuZ29vZ2xlLmNvbGFiLl9maWxlcyA9IHsKICBfdXBsb2FkRmlsZXMsCiAgX3VwbG9hZEZpbGVzQ29udGludWUsCn07Cn0pKHNlbGYpOwo=",
              "ok": true,
              "headers": [
                [
                  "content-type",
                  "application/javascript"
                ]
              ],
              "status": 200,
              "status_text": ""
            }
          },
          "base_uri": "https://localhost:8080/",
          "height": 88
        }
      },
      "source": [
        "#importing data from https://data-seattlecitygis.opendata.arcgis.com/datasets/5b5c745e0f1f48e7a53acec63a0022ab_0/data\n",
        "from google.colab import files\n",
        "\n",
        "uploaded = files.upload()\n",
        "\n",
        "for fn in uploaded.keys():\n",
        "  print('User uploaded file \"{name}\" with length {length} bytes'.format(\n",
        "      name=fn, length=len(uploaded[fn])))"
      ],
      "execution_count": 0,
      "outputs": [
        {
          "output_type": "display_data",
          "data": {
            "text/html": [
              "\n",
              "     <input type=\"file\" id=\"files-fc1e928b-da65-4408-a3dd-15da30b4d791\" name=\"files[]\" multiple disabled />\n",
              "     <output id=\"result-fc1e928b-da65-4408-a3dd-15da30b4d791\">\n",
              "      Upload widget is only available when the cell has been executed in the\n",
              "      current browser session. Please rerun this cell to enable.\n",
              "      </output>\n",
              "      <script src=\"/nbextensions/google.colab/files.js\"></script> "
            ],
            "text/plain": [
              "<IPython.core.display.HTML object>"
            ]
          },
          "metadata": {
            "tags": []
          }
        },
        {
          "output_type": "stream",
          "text": [
            "Saving ahhhhh - Sheet1.csv to ahhhhh - Sheet1.csv\n",
            "User uploaded file \"ahhhhh - Sheet1.csv\" with length 190516 bytes\n"
          ],
          "name": "stdout"
        }
      ]
    },
    {
      "cell_type": "code",
      "metadata": {
        "id": "Me9XzXBUkl6f",
        "colab_type": "code",
        "outputId": "c4033c7a-9339-4f79-a8fa-9f358941b3a0",
        "colab": {
          "base_uri": "https://localhost:8080/",
          "height": 388
        }
      },
      "source": [
        "collision_data = Table().read_table(\"ahhhhh - Sheet1.csv\")\n",
        "road_cond = collision_data.where(\"ROADCOND\", are.not_equal_to(\"nan\")).where(\"WEATHER\", are.not_equal_to (\"Unknown\"))\n",
        "final_data = Table().with_columns(\"INJURIES\", road_cond.column(\"INJURIES\"),\"SERIOUSINJURIES\", road_cond.column(\"SERIOUSINJURIES\"),\"FATALITIES\", road_cond.column(\"FATALITIES\"),\"WEATHER\", road_cond.column(\"WEATHER\"),\"ROADCOND\", road_cond.column(\"ROADCOND\"),\"LIGHTCOND\", road_cond.column(\"LIGHTCOND\"))\n",
        "final_data"
      ],
      "execution_count": 0,
      "outputs": [
        {
          "output_type": "execute_result",
          "data": {
            "text/html": [
              "<table border=\"1\" class=\"dataframe\">\n",
              "    <thead>\n",
              "        <tr>\n",
              "            <th>INJURIES</th> <th>SERIOUSINJURIES</th> <th>FATALITIES</th> <th>WEATHER</th> <th>ROADCOND</th> <th>LIGHTCOND</th>\n",
              "        </tr>\n",
              "    </thead>\n",
              "    <tbody>\n",
              "        <tr>\n",
              "            <td>1       </td> <td>0              </td> <td>0         </td> <td>Clear or Partly Cloudy</td> <td>Dry     </td> <td>Dark - Street Lights On</td>\n",
              "        </tr>\n",
              "        <tr>\n",
              "            <td>0       </td> <td>0              </td> <td>0         </td> <td>Clear or Partly Cloudy</td> <td>Dry     </td> <td>Daylight               </td>\n",
              "        </tr>\n",
              "        <tr>\n",
              "            <td>1       </td> <td>0              </td> <td>0         </td> <td>Clear or Partly Cloudy</td> <td>Dry     </td> <td>Daylight               </td>\n",
              "        </tr>\n",
              "        <tr>\n",
              "            <td>1       </td> <td>0              </td> <td>0         </td> <td>Clear or Partly Cloudy</td> <td>Dry     </td> <td>Daylight               </td>\n",
              "        </tr>\n",
              "        <tr>\n",
              "            <td>1       </td> <td>0              </td> <td>0         </td> <td>Raining               </td> <td>Wet     </td> <td>Dark - Street Lights On</td>\n",
              "        </tr>\n",
              "        <tr>\n",
              "            <td>0       </td> <td>0              </td> <td>0         </td> <td>Clear or Partly Cloudy</td> <td>Dry     </td> <td>Daylight               </td>\n",
              "        </tr>\n",
              "        <tr>\n",
              "            <td>0       </td> <td>0              </td> <td>0         </td> <td>Clear or Partly Cloudy</td> <td>Dry     </td> <td>Daylight               </td>\n",
              "        </tr>\n",
              "        <tr>\n",
              "            <td>3       </td> <td>0              </td> <td>0         </td> <td>Clear or Partly Cloudy</td> <td>Dry     </td> <td>Daylight               </td>\n",
              "        </tr>\n",
              "        <tr>\n",
              "            <td>1       </td> <td>0              </td> <td>0         </td> <td>Clear or Partly Cloudy</td> <td>Dry     </td> <td>Daylight               </td>\n",
              "        </tr>\n",
              "        <tr>\n",
              "            <td>0       </td> <td>0              </td> <td>0         </td> <td>Clear or Partly Cloudy</td> <td>Wet     </td> <td>Dark - Street Lights On</td>\n",
              "        </tr>\n",
              "    </tbody>\n",
              "</table>\n",
              "<p>... (385 rows omitted)</p>"
            ],
            "text/plain": [
              "INJURIES | SERIOUSINJURIES | FATALITIES | WEATHER                | ROADCOND | LIGHTCOND\n",
              "1        | 0               | 0          | Clear or Partly Cloudy | Dry      | Dark - Street Lights On\n",
              "0        | 0               | 0          | Clear or Partly Cloudy | Dry      | Daylight\n",
              "1        | 0               | 0          | Clear or Partly Cloudy | Dry      | Daylight\n",
              "1        | 0               | 0          | Clear or Partly Cloudy | Dry      | Daylight\n",
              "1        | 0               | 0          | Raining                | Wet      | Dark - Street Lights On\n",
              "0        | 0               | 0          | Clear or Partly Cloudy | Dry      | Daylight\n",
              "0        | 0               | 0          | Clear or Partly Cloudy | Dry      | Daylight\n",
              "3        | 0               | 0          | Clear or Partly Cloudy | Dry      | Daylight\n",
              "1        | 0               | 0          | Clear or Partly Cloudy | Dry      | Daylight\n",
              "0        | 0               | 0          | Clear or Partly Cloudy | Wet      | Dark - Street Lights On\n",
              "... (385 rows omitted)"
            ]
          },
          "metadata": {
            "tags": []
          },
          "execution_count": 3
        }
      ]
    },
    {
      "cell_type": "markdown",
      "metadata": {
        "id": "Sl3edQhnJs_O",
        "colab_type": "text"
      },
      "source": [
        "The following code determined the number of injuries, serious injuries, or fatalities that resulted in 100 collisions. For example, if it snows, 18 in 100 collisions will result in a fatality. 54 out of 100 collisions will result in an injury, and 36 out of 100 collisions will result in a serious injury."
      ]
    },
    {
      "cell_type": "code",
      "metadata": {
        "id": "zsK-HQGxYZWO",
        "colab_type": "code",
        "outputId": "d8b98d7c-a365-4210-873d-8ad194f2182b",
        "colab": {
          "base_uri": "https://localhost:8080/",
          "height": 142
        }
      },
      "source": [
        "def table_weather(type_weather):\n",
        "  sort_table = final_data.where(\"WEATHER\", are.equal_to(type_weather))\n",
        "  injuries_sum = np.sum(sort_table.column(\"INJURIES\"))\n",
        "  sinjuries_sum = np.sum(sort_table.column(\"SERIOUSINJURIES\"))\n",
        "  fatal_sum = np.sum(sort_table.column(\"FATALITIES\"))\n",
        "  return(Table().with_columns(\"Collision type\", make_array(\"INJURIES\", \"SERIOUSINJURIES\", \"FATALITIES\"), \"Percent of Injuries\", make_array((100*injuries_sum / sort_table.num_rows), (100*sinjuries_sum / sort_table.num_rows), (100*fatal_sum / sort_table.num_rows))))\n",
        "table_weather(\"Clear or Partly Cloudy\")\n",
        "table = table_weather(\"Snowing\").join(\"Collision type\", table_weather(\"Raining\")).join(\"Collision type\", table_weather(\"Overcast\")).join(\"Collision type\", table_weather(\"Clear or Partly Cloudy\"))\n",
        "graph_table = table.relabel(\"Percent of Injuries\", \"Snowing\").relabel(\"Percent of Injuries_2\", \"Raining\").relabel(\"Percent of Injuries_3\", \"Overcast\").relabel(\"Percent of Injuries_4\", \"Clear or Partly Cloudy\")\n",
        "graph_table"
      ],
      "execution_count": 0,
      "outputs": [
        {
          "output_type": "execute_result",
          "data": {
            "text/html": [
              "<table border=\"1\" class=\"dataframe\">\n",
              "    <thead>\n",
              "        <tr>\n",
              "            <th>Collision type</th> <th>Snowing</th> <th>Raining</th> <th>Overcast</th> <th>Clear or Partly Cloudy</th>\n",
              "        </tr>\n",
              "    </thead>\n",
              "    <tbody>\n",
              "        <tr>\n",
              "            <td>FATALITIES     </td> <td>18.1818</td> <td>8.10811</td> <td>1.69492 </td> <td>1.60643               </td>\n",
              "        </tr>\n",
              "        <tr>\n",
              "            <td>INJURIES       </td> <td>54.5455</td> <td>36.4865</td> <td>30.5085 </td> <td>46.1847               </td>\n",
              "        </tr>\n",
              "        <tr>\n",
              "            <td>SERIOUSINJURIES</td> <td>36.3636</td> <td>9.45946</td> <td>6.77966 </td> <td>2.00803               </td>\n",
              "        </tr>\n",
              "    </tbody>\n",
              "</table>"
            ],
            "text/plain": [
              "Collision type  | Snowing | Raining | Overcast | Clear or Partly Cloudy\n",
              "FATALITIES      | 18.1818 | 8.10811 | 1.69492  | 1.60643\n",
              "INJURIES        | 54.5455 | 36.4865 | 30.5085  | 46.1847\n",
              "SERIOUSINJURIES | 36.3636 | 9.45946 | 6.77966  | 2.00803"
            ]
          },
          "metadata": {
            "tags": []
          },
          "execution_count": 8
        }
      ]
    },
    {
      "cell_type": "code",
      "metadata": {
        "id": "MeNfiUe1eRzM",
        "colab_type": "code",
        "outputId": "1ee390ab-3590-4316-b286-740d84e438e2",
        "colab": {
          "base_uri": "https://localhost:8080/",
          "height": 265
        }
      },
      "source": [
        "%matplotlib inline\n",
        "graph_table.barh(\"Collision type\")"
      ],
      "execution_count": 0,
      "outputs": [
        {
          "output_type": "display_data",
          "data": {
            "image/png": "[encoded data removed]",
            "text/plain": [
              "<Figure size 432x288 with 1 Axes>"
            ]
          },
          "metadata": {
            "tags": []
          }
        }
      ]
    },
    {
      "cell_type": "markdown",
      "metadata": {
        "id": "3SpzKTVam4s1",
        "colab_type": "text"
      },
      "source": [
        "We can tell from the bar graph above that driving in the snow has the highest rate of injury, serious injury, and fatalities per collision than any other weather, closely followed by rain. \n",
        "\n",
        "But to determine just how \"dangerous\" each weather condition is, we should add up the rates to know the total injury rate for each type of weather."
      ]
    },
    {
      "cell_type": "code",
      "metadata": {
        "id": "RuGPGFXERSqv",
        "colab_type": "code",
        "outputId": "afe78a8f-29a5-4883-be7c-214004f2d3ee",
        "colab": {
          "base_uri": "https://localhost:8080/",
          "height": 173
        }
      },
      "source": [
        "total_table = Table().with_columns(\"Weather\", make_array(\"Snowing\", \"Raining\", \"Overcast\", \"Clear or Partly Cloudy\"), \"Injury per 100 Collisions\", make_array(np.sum(graph_table.column(\"Snowing\")), np.sum(graph_table.column(\"Raining\")), np.sum(graph_table.column(\"Overcast\")), np.sum(graph_table.column(\"Clear or Partly Cloudy\"))))\n",
        "#total_table.barh(\"Weather\")\n",
        "total_table"
      ],
      "execution_count": 0,
      "outputs": [
        {
          "output_type": "execute_result",
          "data": {
            "text/html": [
              "<table border=\"1\" class=\"dataframe\">\n",
              "    <thead>\n",
              "        <tr>\n",
              "            <th>Weather</th> <th>Injury per 100 Collisions</th>\n",
              "        </tr>\n",
              "    </thead>\n",
              "    <tbody>\n",
              "        <tr>\n",
              "            <td>Snowing               </td> <td>109.091                  </td>\n",
              "        </tr>\n",
              "        <tr>\n",
              "            <td>Raining               </td> <td>54.0541                  </td>\n",
              "        </tr>\n",
              "        <tr>\n",
              "            <td>Overcast              </td> <td>38.9831                  </td>\n",
              "        </tr>\n",
              "        <tr>\n",
              "            <td>Clear or Partly Cloudy</td> <td>49.7992                  </td>\n",
              "        </tr>\n",
              "    </tbody>\n",
              "</table>"
            ],
            "text/plain": [
              "Weather                | Injury per 100 Collisions\n",
              "Snowing                | 109.091\n",
              "Raining                | 54.0541\n",
              "Overcast               | 38.9831\n",
              "Clear or Partly Cloudy | 49.7992"
            ]
          },
          "metadata": {
            "tags": []
          },
          "execution_count": 17
        }
      ]
    },
    {
      "cell_type": "markdown",
      "metadata": {
        "id": "1RwHlPVqVHxu",
        "colab_type": "text"
      },
      "source": [
        "Snowing has an injury rate of around 109 injuries per 100 collisions. This means that one collision would (on average) cause more than one injury - so it'd affect multiple people involved in the collision. Next up is rain, which is around 54 injuries per 100 collisions, clear weather- 50 injuries per 100 collisions, and overcast- around 39 injuries per 100 collisions.\n",
        "\n",
        "While we oculd come to the conclusion that snowing is the most \"dangerous\" because of its high injury rate, it only makes up a small fraction of Seattle's daily weather. "
      ]
    },
    {
      "cell_type": "code",
      "metadata": {
        "id": "u3BJ43NPSSF4",
        "colab_type": "code",
        "outputId": "6214402f-097e-4701-bcd1-f18ce5c08453",
        "colab": {
          "base_uri": "https://localhost:8080/",
          "height": 173
        }
      },
      "source": [
        "weather_array = final_data.column(\"WEATHER\")\n",
        "weather_num = make_array((100*np.count_nonzero(weather_array == \"Clear or Partly Cloudy\")/392),(100*np.count_nonzero(weather_array == \"Overcast\")/392),(100*np.count_nonzero(weather_array == \"Snowing\")/392),(100*np.count_nonzero(weather_array == \"Raining\")/392))\n",
        "weather_table = Table().with_columns(\"Weather\", make_array(\"Clear or Partly Cloudy\", \"Overcast\", \"Snowing\", \"Raining\"), \"Percentage\", weather_num)\n",
        "weather_table\n"
      ],
      "execution_count": 0,
      "outputs": [
        {
          "output_type": "execute_result",
          "data": {
            "text/html": [
              "<table border=\"1\" class=\"dataframe\">\n",
              "    <thead>\n",
              "        <tr>\n",
              "            <th>Weather</th> <th>Percentage</th>\n",
              "        </tr>\n",
              "    </thead>\n",
              "    <tbody>\n",
              "        <tr>\n",
              "            <td>Clear or Partly Cloudy</td> <td>63.5204   </td>\n",
              "        </tr>\n",
              "        <tr>\n",
              "            <td>Overcast              </td> <td>15.051    </td>\n",
              "        </tr>\n",
              "        <tr>\n",
              "            <td>Snowing               </td> <td>2.80612   </td>\n",
              "        </tr>\n",
              "        <tr>\n",
              "            <td>Raining               </td> <td>18.8776   </td>\n",
              "        </tr>\n",
              "    </tbody>\n",
              "</table>"
            ],
            "text/plain": [
              "Weather                | Percentage\n",
              "Clear or Partly Cloudy | 63.5204\n",
              "Overcast               | 15.051\n",
              "Snowing                | 2.80612\n",
              "Raining                | 18.8776"
            ]
          },
          "metadata": {
            "tags": []
          },
          "execution_count": 48
        }
      ]
    },
    {
      "cell_type": "code",
      "metadata": {
        "id": "6DF-Voarj8q_",
        "colab_type": "code",
        "outputId": "7f452f62-7921-49b5-ce53-d1fc4a8f7ddc",
        "colab": {
          "base_uri": "https://localhost:8080/",
          "height": 284
        }
      },
      "source": [
        "#Bar time\n",
        "%matplotlib inline\n",
        "weather_table.barh (\"Weather\", \"Percentage\")"
      ],
      "execution_count": 0,
      "outputs": [
        {
          "output_type": "display_data",
          "data": {
            "image/png": "[encoded data removed]",
            "text/plain": [
              "<Figure size 432x288 with 1 Axes>"
            ]
          },
          "metadata": {
            "tags": []
          }
        }
      ]
    },
    {
      "cell_type": "markdown",
      "metadata": {
        "id": "Kq6s8GWOYkSd",
        "colab_type": "text"
      },
      "source": [
        "The table and bar chart above show that collisions that occur in the snow make up a really small percentage of the yearly weather- only around 11 out of 395 reported collisions. Though it has a high injury rate, collisions that occur in the snow are extrememly rare."
      ]
    }
  ]
}