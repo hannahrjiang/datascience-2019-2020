{
  "nbformat": 4,
  "nbformat_minor": 0,
  "metadata": {
    "colab": {
      "name": "Yawning.ipynb",
      "provenance": [],
      "collapsed_sections": [],
      "authorship_tag": "ABX9TyPbPhainUlNZTMEwq7bNBv1",
      "include_colab_link": true
    },
    "kernelspec": {
      "name": "python3",
      "display_name": "Python 3"
    }
  },
  "cells": [
    {
      "cell_type": "markdown",
      "metadata": {
        "id": "view-in-github",
        "colab_type": "text"
      },
      "source": [
        "<a href=\"https://colab.research.google.com/github/hannahrjiang/school-stuff/blob/master/YawningContagious.ipynb\" target=\"_parent\"><img src=\"https://colab.research.google.com/assets/colab-badge.svg\" alt=\"Open In Colab\"/></a>"
      ]
    },
    {
      "cell_type": "code",
      "metadata": {
        "id": "-_Cz-dTh41AB",
        "colab_type": "code",
        "colab": {}
      },
      "source": [
        "#import libraries\n",
        "from datascience import *\n",
        "import numpy as np"
      ],
      "execution_count": 0,
      "outputs": []
    },
    {
      "cell_type": "code",
      "metadata": {
        "id": "hxSFAr295FPP",
        "colab_type": "code",
        "outputId": "f2acbeda-61c9-4cfb-b67a-be04613fbf62",
        "colab": {
          "base_uri": "https://localhost:8080/",
          "height": 390
        }
      },
      "source": [
        "%matplotlib inline\n",
        "\n",
        "#Producing the null grouping\n",
        "original_group = 14*[\"Yawn\"] + 36*[\"No Yawn\"]\n",
        "\n",
        "#The following code checks if I properly sorted the two groups\n",
        "#x = np.append(seeded_group, unseeded_group)\n",
        "#np.count_nonzero (x == \"Yawn\")\n",
        "\n",
        "#Sampling distribution\n",
        "difference_yawns = []\n",
        "for i in np.arange(1000):\n",
        "  #Sorting yawns/no yawns into seeded and unseeded groups based on their sizes in the original experiment\n",
        "  for i in np.arange(50):\n",
        "    seeded_group = np.random.choice(original_group, 34, replace = False)\n",
        "    unseeded_group = np.random.choice(original_group, 16, replace = False)\n",
        "  #finding the number of yawns in each group\n",
        "  seeded_yawns = np.count_nonzero(seeded_group == \"Yawn\")/34\n",
        "  nonseeded_yawns = np.count_nonzero(unseeded_group == \"Yawn\")/16\n",
        "  #This is our test statistic, absolute value of (proportion of seeded yawners - proportion of unseeded yawners)\n",
        "  x = abs(seeded_yawns - nonseeded_yawns)\n",
        "  #Adding it to a list\n",
        "  difference_yawns.append(x)\n",
        "\n",
        "#Histogram\n",
        "yawn_table = Table().with_column(\"Yawn Difference\", np.array(difference_yawns)) \n",
        "yawn_table.hist (\"Yawn Difference\")\n",
        "\n",
        "\n"
      ],
      "execution_count": 0,
      "outputs": [
        {
          "output_type": "display_data",
          "data": {
            "image/png": "[encoded data removed]",
            "text/plain": [
              "<Figure size 432x288 with 1 Axes>"
            ]
          },
          "metadata": {
            "tags": []
          }
        }
      ]
    },
    {
      "cell_type": "code",
      "metadata": {
        "id": "7sWcAQY0lv5A",
        "colab_type": "code",
        "outputId": "62ec39f1-41cd-4229-af03-759fef372db2",
        "colab": {
          "base_uri": "https://localhost:8080/",
          "height": 34
        }
      },
      "source": [
        "#Compare this with our observed statistic - proportion of seeded yawners - proportion of nonseeded yawners\n",
        "observed_stat = abs((11/34) - (3/16))\n",
        "p_value = np.count_nonzero(np.array(difference_yawns) >= observed_stat)/1000\n",
        "p_value"
      ],
      "execution_count": 0,
      "outputs": [
        {
          "output_type": "execute_result",
          "data": {
            "text/plain": [
              "0.248"
            ]
          },
          "metadata": {
            "tags": []
          },
          "execution_count": 86
        }
      ]
    },
    {
      "cell_type": "markdown",
      "metadata": {
        "id": "uWDUEIAvm9mF",
        "colab_type": "text"
      },
      "source": [
        "If our p-value of 24.8%, then we can assume the null hypothesis has a high correlation with our experimental value. This supports the idea that yawning is not contagious."
      ]
    }
  ]
}
