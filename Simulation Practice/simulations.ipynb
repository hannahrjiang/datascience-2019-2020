{
  "nbformat": 4,
  "nbformat_minor": 0,
  "metadata": {
    "colab": {
      "name": "simulations.ipynb",
      "provenance": [],
      "collapsed_sections": [],
      "include_colab_link": true
    },
    "kernelspec": {
      "name": "python3",
      "display_name": "Python 3"
    }
  },
  "cells": [
    {
      "cell_type": "markdown",
      "metadata": {
        "id": "view-in-github",
        "colab_type": "text"
      },
      "source": [
        "<a href=\"https://colab.research.google.com/github/hannahrjiang/school-stuff/blob/master/simulations.ipynb\" target=\"_parent\"><img src=\"https://colab.research.google.com/assets/colab-badge.svg\" alt=\"Open In Colab\"/></a>"
      ]
    },
    {
      "cell_type": "markdown",
      "metadata": {
        "id": "Ttxq7MTi_AWy",
        "colab_type": "text"
      },
      "source": [
        "# Coinflipping Simulation"
      ]
    },
    {
      "cell_type": "code",
      "metadata": {
        "id": "DUIzaez3Epe2",
        "colab_type": "code",
        "colab": {}
      },
      "source": [
        "#import libraries\n",
        "import math\n",
        "import numpy as np\n",
        "from datascience import *"
      ],
      "execution_count": 0,
      "outputs": []
    },
    {
      "cell_type": "code",
      "metadata": {
        "id": "YpoHzxwMF-zs",
        "colab_type": "code",
        "outputId": "7c36060e-d55e-405c-8650-cb31d34ec5c6",
        "colab": {
          "base_uri": "https://localhost:8080/",
          "height": 301
        }
      },
      "source": [
        "%matplotlib inline\n",
        "#creates a function that simulates acertain numberof tosses and return the numberof heads/tails it gets\n",
        "def coin_flip(tosses):\n",
        "  probability = \n",
        "  success = 0 \n",
        "  for i in np.arange(tosses):\n",
        "    flip = np.random.choice(make_array (\"Heads\", \"Tails\"))\n",
        "    if flip == \"Heads\":\n",
        "      success += 1\n",
        "    elif flip == \"Tails\":\n",
        "      success += 0\n",
        "  return success\n",
        "\n",
        "#Takes in a certain number of tosses and repeates coin flip for that number, storing it in a list, making that into a table, and then making that a histogram\n",
        "heads = []\n",
        "for i in np.arange(10000):\n",
        "  heads.append(coin_flip(16))\n",
        "  x = Table().with_column(\"Heads\", heads)\n",
        "x.hist(\"Heads\", bins = np.arange(0,17,1))\n",
        "#probability of 14/16? -- calculated through total number of heads / total flips\n",
        "x = len(x.where('Heads', are.above_or_equal_to(14)).column(\"Heads\"))\n",
        "x/10000"
      ],
      "execution_count": 0,
      "outputs": [
        {
          "output_type": "execute_result",
          "data": {
            "text/plain": [
              "0.0023"
            ]
          },
          "metadata": {
            "tags": []
          },
          "execution_count": 3
        },
        {
          "output_type": "display_data",
          "data": {
            "image/png": "[encoded data removed]",
            "text/plain": [
              "<Figure size 432x288 with 1 Axes>"
            ]
          },
          "metadata": {
            "tags": []
          }
        }
      ]
    },
    {
      "cell_type": "markdown",
      "metadata": {
        "id": "deeDvlvx_LmH",
        "colab_type": "text"
      },
      "source": [
        "# Monkey Banging Keyboard Simulation"
      ]
    },
    {
      "cell_type": "code",
      "metadata": {
        "id": "ZCT1wHbkLYD2",
        "colab_type": "code",
        "colab": {}
      },
      "source": [
        "\"\"\"\n",
        "Key strike\n",
        "\"\"\"\n",
        "\n",
        "#creates a singular function that simulates one key strike\n",
        "import string\n",
        "letters = list(string.ascii_lowercase)\n",
        "def simulate_key_strike():\n",
        "    x = np.random.choice(letters)\n",
        "    return x\n",
        "\n",
        "#creates another function that loops the function above to create a string of 11 letters\n",
        "def simulate_several_key_strikes(num_strikes):\n",
        "    string = []\n",
        "    for i in np.arange(num_strikes):\n",
        "      x = np.random.choice(letters)\n",
        "      string.append(x)\n",
        "    return \"\".join(string)\n",
        "\n",
        "#Creates a loop that makes a string 11 letters and adds them to a list, calculates the probability that the list has \n",
        "#datascience divided by the total number of strikes\n",
        "strike_loop = []\n",
        "strikes = 1000\n",
        "for i in np.arange(strikes):  \n",
        "  z = simulate_several_key_strikes(11)\n",
        "  strike_loop.append(z)\n",
        "datascience_proportion = np.count_nonzero(strike_loop == \"datascience\")/strikes\n",
        "datascience_proportion\n",
        "\n",
        "\n"
      ],
      "execution_count": 0,
      "outputs": []
    }
  ]
}
